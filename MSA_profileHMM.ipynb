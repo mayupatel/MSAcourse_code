{
 "cells": [
  {
   "cell_type": "markdown",
   "metadata": {},
   "source": [
    "## Name: Mayuri Patel"
   ]
  },
  {
   "cell_type": "markdown",
   "metadata": {},
   "source": [
    "1. Draw the structure/topology of a profile HMM for the following multiple alignments of protein sequences (Hint: first decide the length of the models). Train the model using the Laplace’s rule for pseudocounts."
   ]
  },
  {
   "cell_type": "markdown",
   "metadata": {},
   "source": [
    "A profile hidden Markov model is an extension of a standard HMM, where the emission and transition probabilities are position specific. That is, they can change at each point along the sequence. "
   ]
  },
  {
   "cell_type": "markdown",
   "metadata": {},
   "source": [
    "### Importing the modules"
   ]
  },
  {
   "cell_type": "markdown",
   "metadata": {},
   "source": [
    "aphid is a R package for the development and application of hidden Markov models and profile HMMs for biological sequence analysis. While ape is use alongside with aphid."
   ]
  },
  {
   "cell_type": "code",
   "execution_count": 1,
   "metadata": {},
   "outputs": [],
   "source": [
    "#importing R packages:\n",
    "#importing two libraries - aphid and ape\n",
    "suppressWarnings(suppressMessages(library(aphid)))\n",
    "suppressWarnings(suppressMessages(library(ape)))"
   ]
  },
  {
   "cell_type": "markdown",
   "metadata": {},
   "source": [
    "### Profile Hidden Markov Models"
   ]
  },
  {
   "cell_type": "code",
   "execution_count": 2,
   "metadata": {},
   "outputs": [
    {
     "data": {
      "text/html": [
       "<table>\n",
       "<tbody>\n",
       "\t<tr><td>S</td><td>F</td><td>M</td><td>V</td><td>P</td><td>V</td><td>D</td><td>-</td><td>-</td><td>-</td><td>A</td><td>P</td></tr>\n",
       "\t<tr><td>C</td><td>Y</td><td>L</td><td>L</td><td>G</td><td>V</td><td>D</td><td>-</td><td>-</td><td>-</td><td>A</td><td>P</td></tr>\n",
       "\t<tr><td>L</td><td>K</td><td>L</td><td>I</td><td>M</td><td>T</td><td>-</td><td>-</td><td>-</td><td>-</td><td>D</td><td>G</td></tr>\n",
       "\t<tr><td>N</td><td>Y</td><td>L</td><td>-</td><td>-</td><td>-</td><td>-</td><td>-</td><td>-</td><td>-</td><td>I</td><td>P</td></tr>\n",
       "\t<tr><td>N</td><td>L</td><td>L</td><td>-</td><td>-</td><td>-</td><td>-</td><td>-</td><td>-</td><td>-</td><td>L</td><td>P</td></tr>\n",
       "\t<tr><td>N</td><td>Y</td><td>L</td><td>-</td><td>-</td><td>-</td><td>-</td><td>-</td><td>-</td><td>-</td><td>L</td><td>P</td></tr>\n",
       "\t<tr><td>N</td><td>Y</td><td>I</td><td>-</td><td>-</td><td>-</td><td>-</td><td>-</td><td>-</td><td>-</td><td>V</td><td>P</td></tr>\n",
       "\t<tr><td>N</td><td>R</td><td>L</td><td>-</td><td>-</td><td>-</td><td>-</td><td>-</td><td>-</td><td>-</td><td>L</td><td>P</td></tr>\n",
       "\t<tr><td>E</td><td>N</td><td>-</td><td>-</td><td>-</td><td>-</td><td>-</td><td>-</td><td>Y</td><td>L</td><td>V</td><td>P</td></tr>\n",
       "\t<tr><td>E</td><td>E</td><td>D</td><td>G</td><td>M</td><td>-</td><td>D</td><td>D</td><td>V</td><td>I</td><td>Y</td><td>P</td></tr>\n",
       "</tbody>\n",
       "</table>\n"
      ],
      "text/latex": [
       "\\begin{tabular}{llllllllllll}\n",
       "\t S & F & M & V & P & V & D & - & - & - & A & P\\\\\n",
       "\t C & Y & L & L & G & V & D & - & - & - & A & P\\\\\n",
       "\t L & K & L & I & M & T & - & - & - & - & D & G\\\\\n",
       "\t N & Y & L & - & - & - & - & - & - & - & I & P\\\\\n",
       "\t N & L & L & - & - & - & - & - & - & - & L & P\\\\\n",
       "\t N & Y & L & - & - & - & - & - & - & - & L & P\\\\\n",
       "\t N & Y & I & - & - & - & - & - & - & - & V & P\\\\\n",
       "\t N & R & L & - & - & - & - & - & - & - & L & P\\\\\n",
       "\t E & N & - & - & - & - & - & - & Y & L & V & P\\\\\n",
       "\t E & E & D & G & M & - & D & D & V & I & Y & P\\\\\n",
       "\\end{tabular}\n"
      ],
      "text/markdown": [
       "\n",
       "| S | F | M | V | P | V | D | - | - | - | A | P |\n",
       "| C | Y | L | L | G | V | D | - | - | - | A | P |\n",
       "| L | K | L | I | M | T | - | - | - | - | D | G |\n",
       "| N | Y | L | - | - | - | - | - | - | - | I | P |\n",
       "| N | L | L | - | - | - | - | - | - | - | L | P |\n",
       "| N | Y | L | - | - | - | - | - | - | - | L | P |\n",
       "| N | Y | I | - | - | - | - | - | - | - | V | P |\n",
       "| N | R | L | - | - | - | - | - | - | - | L | P |\n",
       "| E | N | - | - | - | - | - | - | Y | L | V | P |\n",
       "| E | E | D | G | M | - | D | D | V | I | Y | P |\n",
       "\n"
      ],
      "text/plain": [
       "      [,1] [,2] [,3] [,4] [,5] [,6] [,7] [,8] [,9] [,10] [,11] [,12]\n",
       " [1,] S    F    M    V    P    V    D    -    -    -     A     P    \n",
       " [2,] C    Y    L    L    G    V    D    -    -    -     A     P    \n",
       " [3,] L    K    L    I    M    T    -    -    -    -     D     G    \n",
       " [4,] N    Y    L    -    -    -    -    -    -    -     I     P    \n",
       " [5,] N    L    L    -    -    -    -    -    -    -     L     P    \n",
       " [6,] N    Y    L    -    -    -    -    -    -    -     L     P    \n",
       " [7,] N    Y    I    -    -    -    -    -    -    -     V     P    \n",
       " [8,] N    R    L    -    -    -    -    -    -    -     L     P    \n",
       " [9,] E    N    -    -    -    -    -    -    Y    L     V     P    \n",
       "[10,] E    E    D    G    M    -    D    D    V    I     Y     P    "
      ]
     },
     "metadata": {},
     "output_type": "display_data"
    }
   ],
   "source": [
    "#Creating the multiple sequence alignment matrix of amino acids\n",
    "\n",
    "seqAlignment = matrix(c(\"S\",\"F\",\"M\",\"V\",\"P\",\"V\",\"D\",\"-\",\"-\",\"-\",\"A\",\"P\",\"C\",\"Y\",\"L\",\"L\",\"G\",\"V\",\"D\",\"-\",\"-\",\"-\",\"A\",\"P\",\"L\",\"K\",\"L\",\"I\",\"M\",\"T\",\"-\",\"-\",\"-\",\"-\",\"D\",\"G\",\"N\",\"Y\",\"L\",\"-\",\"-\",\"-\",\"-\",\"-\",\"-\",\"-\",\"I\",\"P\",\"N\",\"L\",\"L\",\"-\",\"-\",\"-\",\"-\",\"-\",\"-\",\"-\",\"L\",\"P\",\"N\",\"Y\",\"L\",\"-\",\"-\",\"-\",\"-\",\"-\",\"-\",\"-\",\"L\",\"P\",\"N\",\"Y\",\"I\",\"-\",\"-\",\"-\",\"-\",\"-\",\"-\",\"-\",\"V\",\"P\",\"N\",\"R\",\"L\",\"-\",\"-\",\"-\",\"-\",\"-\",\"-\",\"-\",\"L\",\"P\",\"E\",\"N\",\"-\",\"-\",\"-\",\"-\",\"-\",\"-\",\"Y\",\"L\",\"V\",\"P\",\"E\",\"E\",\"D\",\"G\",\"M\",\"-\",\"D\",\"D\",\"V\",\"I\",\"Y\",\"P\"), nrow = 10, byrow=TRUE)\n",
    "\n",
    "seqAlignment"
   ]
  },
  {
   "cell_type": "markdown",
   "metadata": {},
   "source": [
    "The following code derives a profile HMM from the amino acid sequence alignment and plots the model:"
   ]
  },
  {
   "cell_type": "code",
   "execution_count": 3,
   "metadata": {},
   "outputs": [
    {
     "name": "stdout",
     "output_type": "stream",
     "text": [
      "Applying uniform sequence weights\n"
     ]
    },
    {
     "data": {
      "image/png": "[encoded data removed]",
      "text/plain": [
       "plot without title"
      ]
     },
     "metadata": {},
     "output_type": "display_data"
    }
   ],
   "source": [
    "#As the weights of the amino acid are uniform, no weights have been assigned separately\n",
    "#using pseudocount and mentioning residues as amino acid\n",
    "seqAlignment.PHMM = derivePHMM(seqAlignment, residues = \"AMINO\", pseudocounts = \"Laplace\")\n",
    "\n",
    "#creating topology of profile HMM using PHMM\n",
    "plot(seqAlignment.PHMM)"
   ]
  },
  {
   "cell_type": "markdown",
   "metadata": {},
   "source": [
    "The three state types listed above in the plot as circles -delete state, diamonds-insert state and rectangles-match state, respectively. The states are linked by transition probabilities shown as weighted lines in the graph. B and E are the begin and end position. There is only one insert state and 5 match states. The horizontal bars in rectangles represent the emission probabilities for each residue in the alphabet (in this case the amino acid alphabet) at each position in the model. Numbers in the delete states are simply model module numbers, while those in the insert states are the probabilities of remaining in the current insert state at the next emission cycle."
   ]
  },
  {
   "cell_type": "markdown",
   "metadata": {},
   "source": [
    "### Sequence Simulation"
   ]
  },
  {
   "cell_type": "markdown",
   "metadata": {},
   "source": [
    "The following code simulates a list of 10 random sequences from the amino acid matrix profile HMM:\n",
    "Sequences are generated recursively using the transition and emission probabilities from within the model"
   ]
  },
  {
   "cell_type": "code",
   "execution_count": 4,
   "metadata": {},
   "outputs": [],
   "source": [
    "#from observed data to simulate data\n",
    "#length of the sequence\n",
    "ltOfSeq <- list(length = 10)\n",
    "suppressWarnings(RNGversion(\"3.5.0\")) #loading the version to generate the sequences.\n",
    "set.seed(9999) # setting the seed\n",
    "\n",
    "#for loop to generate the sequences using the existing amino acid sequence matrix.\n",
    "for(i in 1:10) ltOfSeq[[i]] <- generate(seqAlignment.PHMM, size = 20)"
   ]
  },
  {
   "cell_type": "markdown",
   "metadata": {},
   "source": [
    "Gap symbols are emitted from delete states, if these gaps are not required they can be removed as follows:"
   ]
  },
  {
   "cell_type": "code",
   "execution_count": 5,
   "metadata": {},
   "outputs": [],
   "source": [
    "#removing the \"-\" signal which were emmitted at the delete state\n",
    "#lapply function in R, returns a list of the same length as input list object to remove the gaps.\n",
    "ltOfSeq <- lapply(ltOfSeq, function(s) s[names(s) != \"D\"])"
   ]
  },
  {
   "cell_type": "markdown",
   "metadata": {},
   "source": [
    "### Model Training"
   ]
  },
  {
   "cell_type": "markdown",
   "metadata": {},
   "source": [
    "The following code trains the amino acids sequences profile HMM with the sequences simulated in the previous step using the Baum Welch algorithm."
   ]
  },
  {
   "cell_type": "code",
   "execution_count": 6,
   "metadata": {},
   "outputs": [
    {
     "name": "stdout",
     "output_type": "stream",
     "text": [
      "Iteration 1 log likelihood = -180.4212 \n",
      "Iteration 2 log likelihood = -172.0409 \n",
      "Iteration 3 log likelihood = -171.1926 \n",
      "Iteration 4 log likelihood = -170.6315 \n",
      "Iteration 5 log likelihood = -170.2929 \n",
      "Iteration 6 log likelihood = -170.102 \n",
      "Iteration 7 log likelihood = -169.9889 \n",
      "Iteration 8 log likelihood = -169.9132 \n",
      "Iteration 9 log likelihood = -169.8555 \n",
      "Iteration 10 log likelihood = -169.8076 \n",
      "Iteration 11 log likelihood = -169.7656 \n",
      "Iteration 12 log likelihood = -169.7275 \n",
      "Iteration 13 log likelihood = -169.6917 \n",
      "Iteration 14 log likelihood = -169.6571 \n",
      "Iteration 15 log likelihood = -169.6231 \n",
      "Iteration 16 log likelihood = -169.5894 \n",
      "Iteration 17 log likelihood = -169.5561 \n",
      "Iteration 18 log likelihood = -169.5235 \n",
      "Iteration 19 log likelihood = -169.4919 \n",
      "Iteration 20 log likelihood = -169.4619 \n",
      "Iteration 21 log likelihood = -169.4337 \n",
      "Iteration 22 log likelihood = -169.4077 \n",
      "Iteration 23 log likelihood = -169.384 \n",
      "Iteration 24 log likelihood = -169.3628 \n",
      "Iteration 25 log likelihood = -169.344 \n",
      "Iteration 26 log likelihood = -169.3275 \n",
      "Iteration 27 log likelihood = -169.3132 \n",
      "Iteration 28 log likelihood = -169.3009 \n",
      "Iteration 29 log likelihood = -169.2904 \n",
      "Iteration 30 log likelihood = -169.2815 \n",
      "Convergence threshold reached after 30 EM iterations\n"
     ]
    }
   ],
   "source": [
    "#training the set with Laplace pseudocounts and Baum Welch algorithm.\n",
    "seqAlignment2.PHMM <- train(seqAlignment.PHMM, ltOfSeq, method = \"BaumWelch\", \n",
    "                       deltaLL = 0.01, seqweights = NULL, pseudocounts = \"Laplace\")"
   ]
  },
  {
   "cell_type": "markdown",
   "metadata": {},
   "source": [
    "This operation took 30 expectation-maximization iterations to converge to the specified delta log-likelihood threshold of 0.01."
   ]
  }
 ],
 "metadata": {
  "kernelspec": {
   "display_name": "R",
   "language": "R",
   "name": "ir"
  },
  "language_info": {
   "codemirror_mode": "r",
   "file_extension": ".r",
   "mimetype": "text/x-r-source",
   "name": "R",
   "pygments_lexer": "r",
   "version": "3.6.1"
  }
 },
 "nbformat": 4,
 "nbformat_minor": 2
}
